{
 "cells": [
  {
   "cell_type": "code",
   "execution_count": 71,
   "metadata": {
    "extensions": {
     "jupyter_dashboards": {
      "version": 1,
      "views": {
       "grid_default": {
        "hidden": true
       },
       "report_default": {}
      }
     }
    }
   },
   "outputs": [],
   "source": [
    "import urllib.request as ur\n",
    "import io\n",
    "from IPython.display import display, HTML\n",
    "import ipywidgets as widgets"
   ]
  },
  {
   "cell_type": "code",
   "execution_count": 123,
   "metadata": {
    "extensions": {
     "jupyter_dashboards": {
      "version": 1,
      "views": {
       "grid_default": {
        "hidden": true
       },
       "report_default": {}
      }
     }
    }
   },
   "outputs": [],
   "source": [
    "subs={\n",
    "    \"witenesses\":\"these dudes I know\",\n",
    "    \"allegedly\":\"kinda probably\",\n",
    "    \"new study\":\"tumblr post\",\n",
    "    \"rebuild\":\"avenge\",\n",
    "    \"space\":\"spaaace\",\n",
    "    \"Google Glass\":\"Virtual Boy\",\n",
    "    \"smartphone\":\"Pokédex\",\n",
    "    \"electric\":\"atomic\",\n",
    "    \"senator\":\"elf-lord\",\n",
    "    \"car\":\"cat\",\n",
    "    \"election\":\"eating contest\",\n",
    "    \"congressional leaders\":\"river spirits\",\n",
    "    \"Homeland Security\": \"Homestar runner\",\n",
    "    \"could not be reached for comment\": \"is guilty and everyone knows it\",\n",
    "    \"debate\":\"dance-off\",\n",
    "    \"self driving\": \"uncontrollably swerving\",\n",
    "    \"poll\":\"psychic reading\",\n",
    "    \"candidate\":\"airbender\",\n",
    "    \"drone\":\"dog\",\n",
    "    \"vows to\":\"probably won't\",\n",
    "    \"at large\":\"very large\",\n",
    "    \"successfully\":\"suddenly\",\n",
    "    \"expands\":\"physically expands\",\n",
    "    \"first-degree\":\"friggen' awful\",\n",
    "    \"second-degree\":\"friggen' awful\",\n",
    "    \"third-degree\":\"friggen' awful\",\n",
    "    \"an unknown number\":\"like hundreds\",\n",
    "    \"front runner\":\"blade runner\",\n",
    "    \"global\":\"spherical\",\n",
    "    \"years\":\"minutes\",\n",
    "    \"minutes\":\"years\",\n",
    "    \"no indication\":\"lots of signs\",\n",
    "    \"urged restraint by\":\"drunkenly egged on\",\n",
    "    \"horsepower\":\"tons of horsemeat\",\n",
    "    \"gaffe\":\"magic spell\",\n",
    "    \"ancient\":\"haunted\",\n",
    "    \"star-studded\":\"blood-soaked\",\n",
    "    \"remains to be seen\":\"will never be known\",\n",
    "    \"silver bullet\":\"way to kill werewolves\",\n",
    "    \"subway system\":\"tunnels I found\",\n",
    "    \"surprising\":\"surprising (but not to me)\",\n",
    "    \"war of words\":\"interplanetary war\",\n",
    "    \"tension\":\"sexual tension\",\n",
    "    \"cautiously optimistic\":\"delusional\",\n",
    "    \"Doctor Who\":\"The Big Bang Theory\",\n",
    "    \"win votes\":\"find Pokémon\",\n",
    "    \"behind the headlines\":\"beyond the grave\",\n",
    "    \"email\":\"poem\",\n",
    "    \"Facebook post\":\"poem\",\n",
    "    \"tweet\":\"peom\",\n",
    "    \"Facebook CEO\":\"this guy\",\n",
    "    \"latest\":\"final\",\n",
    "    \"disrupt\":\"destroy\",\n",
    "    \"meeting\":\"ménage à trois\",\n",
    "    \"scientists\":\"Channing Tatum and his friends\",\n",
    "    \"you won't believe\":\"I'm really sad about\"\n",
    "}"
   ]
  },
  {
   "cell_type": "code",
   "execution_count": 124,
   "metadata": {
    "collapsed": true,
    "extensions": {
     "jupyter_dashboards": {
      "version": 1,
      "views": {
       "grid_default": {
        "hidden": true
       },
       "report_default": {}
      }
     }
    }
   },
   "outputs": [],
   "source": [
    "def sub(news):\n",
    "    n_subs=0\n",
    "    for item in subs.items():\n",
    "        c=news.count(item[0])\n",
    "        if c:\n",
    "            n_subs+=c\n",
    "        news=news.replace(item[0],item[1])\n",
    "    sub_count.value=\"{} substitutions were made.\".format(n_subs)\n",
    "    return news"
   ]
  },
  {
   "cell_type": "code",
   "execution_count": 125,
   "metadata": {
    "collapsed": true,
    "extensions": {
     "jupyter_dashboards": {
      "version": 1,
      "views": {
       "grid_default": {
        "hidden": true
       },
       "report_default": {}
      }
     }
    }
   },
   "outputs": [],
   "source": [
    "def display_page(b):\n",
    "    try:\n",
    "        u = ur.urlopen(url.value)\n",
    "        f = io.TextIOWrapper(u,encoding='utf-8')\n",
    "        text = f.read()\n",
    "        text = sub(text)\n",
    "        html.value=text\n",
    "    except:\n",
    "        html.value=\"invalid URL\"\n"
   ]
  },
  {
   "cell_type": "code",
   "execution_count": 126,
   "metadata": {
    "extensions": {
     "jupyter_dashboards": {
      "version": 1,
      "views": {
       "grid_default": {
        "col": 0,
        "height": 2,
        "hidden": false,
        "row": 0,
        "width": 7
       },
       "report_default": {}
      }
     }
    }
   },
   "outputs": [
    {
     "data": {
      "application/vnd.jupyter.widget-view+json": {
       "model_id": "5dc01572efbf492ca279332a833b97a0"
      }
     },
     "metadata": {},
     "output_type": "display_data"
    },
    {
     "data": {
      "application/vnd.jupyter.widget-view+json": {
       "model_id": "1934367fc08146cdb451c952806824b1"
      }
     },
     "metadata": {},
     "output_type": "display_data"
    }
   ],
   "source": [
    "url=widgets.Text(\"\")\n",
    "submit_button=widgets.Button(description=\"Submit\")\n",
    "sub_count=widgets.HTML(\"\")\n",
    "display(widgets.HBox([widgets.HTML(\"News Article URL:\"),url,submit_button]))\n",
    "display(sub_count)\n",
    "submit_button.on_click(display_page)"
   ]
  },
  {
   "cell_type": "code",
   "execution_count": 129,
   "metadata": {
    "extensions": {
     "jupyter_dashboards": {
      "version": 1,
      "views": {
       "grid_default": {
        "col": 0,
        "height": 277,
        "hidden": false,
        "row": 2,
        "width": 11
       },
       "report_default": {}
      }
     }
    }
   },
   "outputs": [
    {
     "data": {
      "application/vnd.jupyter.widget-view+json": {
       "model_id": "4520c77d7ddb450f89444a4c5db28b83"
      }
     },
     "metadata": {},
     "output_type": "display_data"
    }
   ],
   "source": [
    "html=widgets.HTML('')\n",
    "display(html)"
   ]
  },
  {
   "cell_type": "code",
   "execution_count": null,
   "metadata": {
    "collapsed": true,
    "extensions": {
     "jupyter_dashboards": {
      "version": 1,
      "views": {
       "grid_default": {
        "hidden": true
       },
       "report_default": {}
      }
     }
    }
   },
   "outputs": [],
   "source": []
  }
 ],
 "metadata": {
  "extensions": {
   "jupyter_dashboards": {
    "activeView": "grid_default",
    "version": 1,
    "views": {
     "grid_default": {
      "cellMargin": 10,
      "defaultCellHeight": 20,
      "maxColumns": 12,
      "name": "grid",
      "type": "grid"
     },
     "report_default": {
      "name": "report",
      "type": "report"
     }
    }
   }
  },
  "kernelspec": {
   "display_name": "Python 3",
   "language": "python",
   "name": "python3"
  },
  "language_info": {
   "codemirror_mode": {
    "name": "ipython",
    "version": 3
   },
   "file_extension": ".py",
   "mimetype": "text/x-python",
   "name": "python",
   "nbconvert_exporter": "python",
   "pygments_lexer": "ipython3",
   "version": "3.6.1"
  }
 },
 "nbformat": 4,
 "nbformat_minor": 2
}
